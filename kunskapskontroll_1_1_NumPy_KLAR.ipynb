{
 "cells": [
  {
   "cell_type": "markdown",
   "id": "dacf74e6",
   "metadata": {},
   "source": [
    "# NumPy"
   ]
  },
  {
   "cell_type": "markdown",
   "id": "01b2bf34",
   "metadata": {},
   "source": [
    "Read the links: https://numpy.org/doc/stable/user/quickstart.html  and https://numpy.org/doc/stable/user/basics.broadcasting.html  before solving the exercises. "
   ]
  },
  {
   "cell_type": "code",
   "execution_count": 10,
   "id": "1f79e4a6",
   "metadata": {},
   "outputs": [],
   "source": [
    "import numpy as np"
   ]
  },
  {
   "cell_type": "markdown",
   "id": "7dae6889",
   "metadata": {},
   "source": [
    "### Print out the dimension (number of axes), shape, size and the datatype of the matrix A."
   ]
  },
  {
   "cell_type": "code",
   "execution_count": 11,
   "id": "7b3678cd",
   "metadata": {},
   "outputs": [],
   "source": [
    "A = np.arange(1, 16).reshape(3,5)"
   ]
  },
  {
   "cell_type": "code",
   "execution_count": 11,
   "id": "31d39235",
   "metadata": {},
   "outputs": [
    {
     "name": "stdout",
     "output_type": "stream",
     "text": [
      "Dimensionen: 2\n",
      "Formen: (3, 5)\n",
      "Storlek: 15\n",
      "Data typ: int32\n"
     ]
    }
   ],
   "source": [
    "import numpy as np\n",
    "\n",
    "A = np.arange(1, 16).reshape(3, 5)\n",
    "\n",
    "print(\"Dimensionen:\", A.ndim)\n",
    "print(\"Formen:\", A.shape)\n",
    "print(\"Storlek:\", A.size)\n",
    "print(\"Data typ:\", A.dtype)\n"
   ]
  },
  {
   "cell_type": "markdown",
   "id": "e56d2a96",
   "metadata": {},
   "source": [
    "### Do the following computations on the matrices B and C: \n",
    "* Elementwise subtraction. \n",
    "* Elementwise multiplication. \n",
    "* Matrix multiplication (by default you should use the @ operator)."
   ]
  },
  {
   "cell_type": "code",
   "execution_count": null,
   "id": "a7053fbb",
   "metadata": {},
   "outputs": [],
   "source": [
    "B = np.arange(1, 10).reshape(3, 3)\n",
    "C = np.ones((3, 3))*2\n",
    "\n",
    "print(B)\n",
    "print()\n",
    "print(C)"
   ]
  },
  {
   "cell_type": "code",
   "execution_count": 1,
   "id": "3cd794ae",
   "metadata": {},
   "outputs": [
    {
     "name": "stdout",
     "output_type": "stream",
     "text": [
      "[[-1.  0.  1.]\n",
      " [ 2.  3.  4.]\n",
      " [ 5.  6.  7.]]\n",
      "[[ 2.  4.  6.]\n",
      " [ 8. 10. 12.]\n",
      " [14. 16. 18.]]\n",
      "[[12. 12. 12.]\n",
      " [30. 30. 30.]\n",
      " [48. 48. 48.]]\n"
     ]
    }
   ],
   "source": [
    "import numpy as np\n",
    "\n",
    "B = np.arange(1, 10).reshape(3, 3)\n",
    "C = np.ones((3, 3)) * 2\n",
    "\n",
    "element_sub = B - C\n",
    "print(element_sub)\n",
    "\n",
    "element_multi = B * C\n",
    "print(element_multi)\n",
    "\n",
    "matrix_multi = B @ C\n",
    "print(matrix_multi)\n"
   ]
  },
  {
   "cell_type": "markdown",
   "id": "96030d53",
   "metadata": {},
   "source": [
    "### Do the following calculations on the matrix:\n",
    "* Exponentiate each number elementwise (use the np.exp function).\n",
    "\n",
    "* Calculate the minimum value in the whole matrix. \n",
    "* Calculcate the minimum value in each row. \n",
    "* Calculcate the minimum value in each column. \n",
    "\n",
    "\n",
    "* Find the index value for the minimum value in the whole matrix (hint: use np.argmin).\n",
    "* Find the index value for the minimum value in each row (hint: use np.argmin).\n",
    "\n",
    "\n",
    "* Calculate the sum for all elements.\n",
    "* Calculate the mean for each column. \n",
    "* Calculate the median for each column. "
   ]
  },
  {
   "cell_type": "code",
   "execution_count": null,
   "id": "f8a9166b",
   "metadata": {},
   "outputs": [],
   "source": [
    "B = np.arange(1, 10).reshape(3, 3)\n",
    "print(B)"
   ]
  },
  {
   "cell_type": "code",
   "execution_count": 30,
   "id": "f03f24f7",
   "metadata": {},
   "outputs": [
    {
     "name": "stdout",
     "output_type": "stream",
     "text": [
      "[[1 2 3]\n",
      " [4 5 6]\n",
      " [7 8 9]]\n",
      "[[2.71828183e+00 7.38905610e+00 2.00855369e+01]\n",
      " [5.45981500e+01 1.48413159e+02 4.03428793e+02]\n",
      " [1.09663316e+03 2.98095799e+03 8.10308393e+03]]\n",
      "1\n",
      "[1 4 7]\n",
      "[1 2 3]\n",
      "0\n",
      "[0 0 0]\n",
      "45\n",
      "[4. 5. 6.]\n",
      "[4. 5. 6.]\n"
     ]
    }
   ],
   "source": [
    "import numpy as np\n",
    "\n",
    "B = np.arange(1, 10).reshape(3, 3)\n",
    "print(B)\n",
    "\n",
    "exp_B = np.exp(B)\n",
    "print(exp_B)\n",
    "\n",
    "min_värde = np.min(B)\n",
    "print(min_värde)\n",
    "\n",
    "min_värde_rader = np.min(B, axis=1)\n",
    "print(min_värde_rader)\n",
    "\n",
    "min_värde_kolumner = np.min(B, axis=0)\n",
    "print(min_värde_kolumner)\n",
    "\n",
    "min_index = np.argmin(B)\n",
    "print(min_index)\n",
    "\n",
    "min_index_rader = np.argmin(B, axis=1)\n",
    "print(min_index_rader)\n",
    "\n",
    "summan_elements = np.sum(B)\n",
    "print(summan_elements)\n",
    "\n",
    "mean_kolumner = np.mean(B, axis=0)\n",
    "print(mean_kolumner)\n",
    "\n",
    "median_kolumner = np.median(B, axis=0)\n",
    "print(median_kolumner)\n"
   ]
  },
  {
   "cell_type": "markdown",
   "id": "541eb7ba",
   "metadata": {},
   "source": [
    "### What does it mean when you provide fewer indices than axes when slicing? See example below."
   ]
  },
  {
   "cell_type": "code",
   "execution_count": null,
   "id": "9c8abf56",
   "metadata": {},
   "outputs": [],
   "source": [
    "print(A)"
   ]
  },
  {
   "cell_type": "code",
   "execution_count": null,
   "id": "69415f7b",
   "metadata": {},
   "outputs": [],
   "source": [
    "A[1]"
   ]
  },
  {
   "cell_type": "markdown",
   "id": "6c53541b",
   "metadata": {},
   "source": [
    "**Answer:**"
   ]
  },
  {
   "cell_type": "code",
   "execution_count": 4,
   "id": "de01e120",
   "metadata": {},
   "outputs": [
    {
     "name": "stdout",
     "output_type": "stream",
     "text": [
      "[[1 2 3]\n",
      " [4 5 6]\n",
      " [7 8 9]]\n",
      "[4 5 6]\n"
     ]
    }
   ],
   "source": [
    "A = np.array([[1, 2, 3], [4, 5, 6], [7, 8, 9]])\n",
    "print(A)\n",
    "print(A[1])"
   ]
  },
  {
   "cell_type": "markdown",
   "id": "6652d0c9",
   "metadata": {},
   "source": [
    "### Iterating over multidimensional arrays is done with respect to the first axis, so in the example below we iterate trough the rows. If you would like to iterate through the array *elementwise*, how would you do that?"
   ]
  },
  {
   "cell_type": "code",
   "execution_count": null,
   "id": "9459864f",
   "metadata": {},
   "outputs": [],
   "source": [
    "A"
   ]
  },
  {
   "cell_type": "code",
   "execution_count": null,
   "id": "a671bb5a",
   "metadata": {},
   "outputs": [],
   "source": [
    "for i in A:\n",
    "    print(i)"
   ]
  },
  {
   "cell_type": "code",
   "execution_count": 5,
   "id": "f4e443a0",
   "metadata": {},
   "outputs": [
    {
     "name": "stdout",
     "output_type": "stream",
     "text": [
      "1\n",
      "2\n",
      "3\n",
      "4\n",
      "5\n",
      "6\n"
     ]
    }
   ],
   "source": [
    "import numpy as np\n",
    "\n",
    "A = np.array([[1, 2, 3], [4, 5, 6]])\n",
    "for i in np.nditer(A):\n",
    "    print(i)"
   ]
  },
  {
   "cell_type": "markdown",
   "id": "608a2583",
   "metadata": {},
   "source": [
    "### Explain what the code below does. More specifically, b has three axes - what does this mean? "
   ]
  },
  {
   "cell_type": "code",
   "execution_count": 7,
   "id": "f8f9b26f",
   "metadata": {},
   "outputs": [
    {
     "name": "stdout",
     "output_type": "stream",
     "text": [
      "[ 0  1  2  3  4  5  6  7  8  9 10 11 12 13 14 15 16 17 18 19 20 21 22 23\n",
      " 24 25 26 27 28 29]\n",
      "\n",
      "[[[ 0  1  2  3  4]\n",
      "  [ 5  6  7  8  9]\n",
      "  [10 11 12 13 14]]\n",
      "\n",
      " [[15 16 17 18 19]\n",
      "  [20 21 22 23 24]\n",
      "  [25 26 27 28 29]]]\n"
     ]
    }
   ],
   "source": [
    "a = np.arange(30)\n",
    "b = a.reshape((2, 3, -1))\n",
    "print(a)\n",
    "print()\n",
    "\n",
    "print(b)"
   ]
  },
  {
   "cell_type": "code",
   "execution_count": null,
   "id": "863a45df",
   "metadata": {},
   "outputs": [],
   "source": [
    "# Koden ovan visar att variabeln \"a\" är en dimesionell (1D) linje som visar värde från 0 till 29, däremot variabeln \"b\" visar att det ska vara en grupp av två som vi ser närt vi kör koden. Den visar också att varje grupp har tre rader med siffror och att den börjar från minus ett till 30."
   ]
  },
  {
   "cell_type": "markdown",
   "id": "ab5933d5",
   "metadata": {},
   "source": [
    "### Broadcasting\n",
    "**Read the following link about broadcasting: https://numpy.org/doc/stable/user/basics.broadcasting.html#basics-broadcasting**"
   ]
  },
  {
   "cell_type": "markdown",
   "id": "039805ba",
   "metadata": {},
   "source": [
    "# Remark on Broadcasting when doing Linear Algebra calculations in Python. "
   ]
  },
  {
   "cell_type": "markdown",
   "id": "c4bcc147",
   "metadata": {},
   "source": [
    "### From the mathematical rules of matrix addition, the operation below (m1 + m2) does not make sense. The reason is that matrix addition requires two matrices of the same size. In Python however, it works due to broadcasting rules in NumPy. So you must be careful when doing Linear Algebra calculations in Python since they do not follow the \"mathematical rules\". This can however easily be handled by doing some simple programming, for example validating that two matrices have the same shape is easy if you for instance want to add two matrices. "
   ]
  },
  {
   "cell_type": "code",
   "execution_count": 10,
   "id": "1fd46778",
   "metadata": {},
   "outputs": [
    {
     "name": "stdout",
     "output_type": "stream",
     "text": [
      "[[2 3]\n",
      " [4 5]]\n"
     ]
    }
   ],
   "source": [
    "m1 = np.array([[1, 2], [3, 4]])\n",
    "m2 = np.array([1, 1])\n",
    "print(m1 + m2)"
   ]
  },
  {
   "cell_type": "markdown",
   "id": "047d6576",
   "metadata": {},
   "source": [
    "### The example below would also not be allowed if following the \"mathematical rules\" in Linear Algebra. But it works due to broadcasting in NumPy. "
   ]
  },
  {
   "cell_type": "code",
   "execution_count": 8,
   "id": "5e6ef2e4",
   "metadata": {},
   "outputs": [
    {
     "name": "stdout",
     "output_type": "stream",
     "text": [
      "[2 3 4]\n"
     ]
    }
   ],
   "source": [
    "v1 = np.array([1, 2, 3])\n",
    "print(v1 + 1)"
   ]
  },
  {
   "cell_type": "code",
   "execution_count": 9,
   "id": "e2cbae26",
   "metadata": {},
   "outputs": [
    {
     "name": "stdout",
     "output_type": "stream",
     "text": [
      "[[1 2]\n",
      " [3 4]]\n",
      "[2 2]\n"
     ]
    }
   ],
   "source": [
    "A = np.arange(1, 5).reshape(2,2)\n",
    "print(A)\n",
    "\n",
    "b = np.array([2, 2])\n",
    "print(b)"
   ]
  },
  {
   "cell_type": "markdown",
   "id": "722fd5cd",
   "metadata": {},
   "source": [
    "# Vector- and matrix algebra Exercises"
   ]
  },
  {
   "cell_type": "markdown",
   "id": "b63a3081-d976-4d9f-bfd0-a63917e79f7d",
   "metadata": {},
   "source": [
    "**Now you are going to create a function that can be reused every time you add or multiply matrices. The function is created so that we do the addition and multiplication according to the rules of vector- and matrix algebra.**\n",
    "\n",
    "**Create a function \"add_mult_matrices\" that takes two matrices as input arguments (validate that the input are of the type numpy.ndarray by using the isinstance function), a third argument that is either 'add' or 'multiply' that specifies if you want to add or multiply the matrices (validate that the third argument is either 'add' or 'multiply'). When doing matrix addition, validate that the matrices have the same size. When doing matrix multiplication, validate that the sizes conform (i.e. number of columns in the first matrix is equal to the number of rows in the second matrix).**"
   ]
  },
  {
   "cell_type": "code",
   "execution_count": 9,
   "id": "3506f977-ac0a-473f-85bc-eec9f35dc498",
   "metadata": {},
   "outputs": [
    {
     "name": "stdout",
     "output_type": "stream",
     "text": [
      "[[15 13]\n",
      " [10  3]]\n",
      "[[89 77]\n",
      " [32 26]]\n"
     ]
    }
   ],
   "source": [
    "import numpy as np\n",
    "\n",
    "def add_mult_matrices(matrix1, matrix2, operation):\n",
    "    if not isinstance(matrix1, np.ndarray) or not isinstance(matrix2, np.ndarray):\n",
    "        raise TypeError(\"Båda inputsen måste vara (ndarray)\")\n",
    "   \n",
    "    if operation not in [\"addera\", \"multiplicera\"]:\n",
    "        raise ValueError(\"Operation måste vara 'addera' eller 'multiplicera'\")\n",
    "   \n",
    "    if operation == \"addera\":\n",
    "        if matrix1.shape != matrix2.shape:\n",
    "            raise ValueError(\"Matriserna måste ha samma dimensioner för addition\")\n",
    "        return matrix1 + matrix2\n",
    "   \n",
    "    elif operation == \"multiplicera\":\n",
    "        if matrix1.shape[1] != matrix2.shape[0]:\n",
    "            raise ValueError(\"Antalet kolumner måste vara lika för båda matrisen\")\n",
    "        return np.dot(matrix1, matrix2)\n",
    "\n",
    "A = np.array([[9, 5], [3, 2]])\n",
    "B = np.array([[6, 8], [7, 1]])\n",
    "\n",
    "print(add_mult_matrices(A, B, \"addera\"))\n",
    "\n",
    "print(add_mult_matrices(A, B, \"multiplicera\"))"
   ]
  },
  {
   "cell_type": "markdown",
   "id": "8dad82d0-2359-4dff-8f5b-a57d3e34103c",
   "metadata": {},
   "source": [
    "### Solve all the exercises in chapter 10.1 in the book \"Matematik för yrkeshögskolan\". "
   ]
  },
  {
   "cell_type": "code",
   "execution_count": 42,
   "id": "89df88af-3668-4d98-a0a4-e6d92eea0f89",
   "metadata": {},
   "outputs": [
    {
     "name": "stdout",
     "output_type": "stream",
     "text": [
      "[4 3]\n",
      " b) 5x: [20 15]\n",
      " c) 3x: [12  9]\n",
      " d) 5x + 3x: [32 24]\n",
      " e) 8x: [32 24]\n",
      " f) 4x - x: [12  9]\n",
      " g) x trasnponering: [[4 3]]\n",
      " h) Är x + x^T derfinerad? True\n",
      " i) ||x||: 5.0\n",
      " a) dimensionen av v: 4\n",
      " b) 2vektor: [ 6 14  0 22]\n",
      " c) 5v + 2v: [21 49  0 77]\n",
      " d) 4v - 2v: [ 6 14  0 22]\n",
      " e) Transponering av Vektorn: [[ 3  7  0 11]]\n",
      " f) ||v||: 13.379088160259652\n",
      " a) ||v1||: 7.14142842854285\n",
      " b) ||v1 - v2||: 4.47213595499958\n"
     ]
    }
   ],
   "source": [
    "import numpy as np\n",
    "\n",
    "# Uppgift 10.1.1\n",
    "x = np.array([4, 3])\n",
    "print(x)\n",
    "\n",
    "# b) 5x\n",
    "fem_x = 5 * x\n",
    "print(f\" b) 5x: {fem_x}\")\n",
    "\n",
    "# c) 3x\n",
    "tre_x = 3 * x\n",
    "print(f\" c) 3x: {tre_x}\")\n",
    "\n",
    "# d) 5x + 3x\n",
    "summan_av_fem_x_tre_x = fem_x + tre_x\n",
    "print(f\" d) 5x + 3x: {summan_av_fem_x_tre_x}\")\n",
    "\n",
    "# e) 8x\n",
    "åtta_x = 8 * x\n",
    "print(f\" e) 8x: {åtta_x}\")\n",
    "\n",
    "# f) 4x - x\n",
    "fyra_minus_x = 4 * x - x\n",
    "print(f\" f) 4x - x: {fyra_minus_x}\")\n",
    "\n",
    "# g) x trasnponering\n",
    "x_transponering = x.reshape(1, -1)\n",
    "print(f\" g) x trasnponering: {x_transponering}\")\n",
    "\n",
    "# h) Om x + xT är definerat\n",
    "definerad_x_och_xT = True\n",
    "print(f\" h) Är x + x^T derfinerad? {definerad_x_och_xT}\")\n",
    "\n",
    "# i) Beräkna\n",
    "x_norm = np.linalg.norm(x)\n",
    "print(f\" i) ||x||: {x_norm}\")\n",
    "\n",
    "# Vektorn\n",
    "v = np.array([3, 7, 0, 11])\n",
    "\n",
    "# Uppgift 10.1.2 a)\n",
    "dimensionen_v = v.shape[0]\n",
    "print(f\" a) dimensionen av v: {dimensionen_v}\")\n",
    "\n",
    "# b)\n",
    "v_två = 2 * v\n",
    "print(f\" b) 2vektor: {v_två}\")\n",
    "\n",
    "# c) 5v + 2v\n",
    "fem_plus_två_v = 5 * v + 2 * v \n",
    "print(f\" c) 5v + 2v: {fem_plus_två_v}\")\n",
    "\n",
    "# d) 4v - 2v\n",
    "fyra_minus_två_v = 4 * v - 2 * v\n",
    "print(f\" d) 4v - 2v: {fyra_minus_två_v}\")\n",
    "\n",
    "# e) Transponering av v\n",
    "transponering_v = v.reshape(1, -1)\n",
    "print(f\" e) Transponering av Vektorn: {transponering_v}\")\n",
    "\n",
    "# f) Beräkna\n",
    "v_norm = np.linalg.norm(v)\n",
    "print(f\" f) ||v||: {v_norm}\")\n",
    "\n",
    "# Uppgift 10.1.3 vektorerna\n",
    "v1 = np.array([4, 3, 1, 5])\n",
    "v2 = np.array([2, 3, 1, 1])\n",
    "\n",
    "# a)\n",
    "v1_norm = np.linalg.norm(v1)\n",
    "print(f\" a) ||v1||: {v1_norm}\")\n",
    "\n",
    "# b)\n",
    "v1_norm_minus_v2 = np.linalg.norm(v1 - v2)\n",
    "print(f\" b) ||v1 - v2||: {v1_norm_minus_v2}\")"
   ]
  },
  {
   "cell_type": "markdown",
   "id": "75c98984-1f88-4df1-b850-d2466de444a5",
   "metadata": {},
   "source": [
    "### Solve all the exercises, except 10.2.4, in chapter 10.2 in the book \"Matematik för yrkeshögskolan\". "
   ]
  },
  {
   "cell_type": "code",
   "execution_count": 28,
   "id": "65371610-16e1-48b2-b7fb-65e49002608a",
   "metadata": {},
   "outputs": [
    {
     "name": "stdout",
     "output_type": "stream",
     "text": [
      " a) 2A: \n",
      "[[ 4  2 -2]\n",
      " [ 2 -2  2]]\n",
      "\n",
      " b) b - 2a: \n",
      "[[ 0 -4  3]\n",
      " [ 0 -2 -4]]\n",
      "\n",
      " c) 3c - 2e: \n",
      "[[ 1  4]\n",
      " [ 2 -1]]\n",
      "\n",
      " d) 2d - 3c: \n",
      "[[3 2]\n",
      " [2 3]]\n",
      "\n",
      " e) d^T + 2d: \n",
      "[[ 9 12]\n",
      " [12  9]]\n",
      "\n",
      " f) 2c^T - 2d^T: \n",
      "[[-5 -6]\n",
      " [-6 -5]]\n",
      "\n"
     ]
    },
    {
     "ename": "ValueError",
     "evalue": "operands could not be broadcast together with shapes (3,2) (2,3) ",
     "output_type": "error",
     "traceback": [
      "\u001b[1;31m---------------------------------------------------------------------------\u001b[0m",
      "\u001b[1;31mValueError\u001b[0m                                Traceback (most recent call last)",
      "Cell \u001b[1;32mIn[28], line 35\u001b[0m\n\u001b[0;32m     32\u001b[0m \u001b[38;5;28mprint\u001b[39m(\u001b[38;5;124mf\u001b[39m\u001b[38;5;124m\"\u001b[39m\u001b[38;5;124m f) 2c^T - 2d^T: \u001b[39m\u001b[38;5;130;01m\\n\u001b[39;00m\u001b[38;5;132;01m{\u001b[39;00mtvå_c_T_minus_två_d_T\u001b[38;5;132;01m}\u001b[39;00m\u001b[38;5;130;01m\\n\u001b[39;00m\u001b[38;5;124m\"\u001b[39m)\n\u001b[0;32m     34\u001b[0m \u001b[38;5;66;03m# g)\u001b[39;00m\n\u001b[1;32m---> 35\u001b[0m a_T_min_b \u001b[38;5;241m=\u001b[39m a\u001b[38;5;241m.\u001b[39mT \u001b[38;5;241m-\u001b[39m b\n\u001b[0;32m     36\u001b[0m \u001b[38;5;28mprint\u001b[39m(\u001b[38;5;124mf\u001b[39m\u001b[38;5;124m\"\u001b[39m\u001b[38;5;124m g) aT - b: \u001b[39m\u001b[38;5;130;01m\\n\u001b[39;00m\u001b[38;5;132;01m{\u001b[39;00ma_T_min_b\u001b[38;5;132;01m}\u001b[39;00m\u001b[38;5;130;01m\\n\u001b[39;00m\u001b[38;5;124m\"\u001b[39m)\n\u001b[0;32m     38\u001b[0m \u001b[38;5;66;03m# h)\u001b[39;00m\n",
      "\u001b[1;31mValueError\u001b[0m: operands could not be broadcast together with shapes (3,2) (2,3) "
     ]
    }
   ],
   "source": [
    "import numpy as np\n",
    "\n",
    "a = np.array([[2, 1, -1], [1, -1, 1]])\n",
    "b = np.array([[4, -2, 1], [2, -4, -2]])\n",
    "c = np.array([[1, 2], [2, 1]])\n",
    "d = np.array([[3, 4], [4, 3]])\n",
    "e = np.array([[1], [2]])\n",
    "i = np.array([[1, 0], [0, 1]])\n",
    "\n",
    "# a)\n",
    "två_a = 2 * a\n",
    "print(f\" a) 2A: \\n{två_a}\\n\")\n",
    "\n",
    "# b)\n",
    "b_minus_2a = b - 2 * a\n",
    "print(f\" b) b - 2a: \\n{b_minus_2a}\\n\")\n",
    "\n",
    "# c) \n",
    "tre_c_minus_två_e = 3 * c - 2 * e\n",
    "print(f\" c) 3c - 2e: \\n{tre_c_minus_två_e}\\n\")\n",
    "\n",
    "# d) \n",
    "två_d_minus_tre_c = 2  * d - 3 * c\n",
    "print(f\" d) 2d - 3c: \\n{två_d_minus_tre_c}\\n\")\n",
    "\n",
    "# e) \n",
    "d_T_add_två_d = d.T + 2 * d\n",
    "print(f\" e) d^T + 2d: \\n{d_T_add_två_d}\\n\")\n",
    "\n",
    "# f) \n",
    "två_c_T_minus_två_d_T = c.T - 2 * d.T\n",
    "print(f\" f) 2c^T - 2d^T: \\n{två_c_T_minus_två_d_T}\\n\")\n",
    "\n",
    "# g) Denna uppgift från boken är ej definerad.\n",
    "a_T_min_b = a.T - b\n",
    "print(f\" g) aT - b: \\n{a_T_min_b}\\n\")\n",
    "\n",
    "# h)\n",
    "try:\n",
    "    ac = np.dot(a, c)\n",
    "    print(f\" h) ac: \\n{ac}\\n\")\n",
    "except ValueError:\n",
    "    print(\" h) ac är ej definerad i dimesionerna.\\n\")\n",
    "\n",
    "# i)\n",
    "try:\n",
    "    cd = np.dot(c, d)\n",
    "    print(f\" i) cd: \\n{cd}\\n\")\n",
    "except ValueError:\n",
    "    print(\" i) cd är ej definerad i dimesionerna.\\n\")\n",
    "\n",
    "# j) \n",
    "try:\n",
    "    cb = np.dot(c, b)\n",
    "    print(f\" j) cb: \\n{cb}\\n\")\n",
    "except ValueError:\n",
    "    print(\" j) cb är ej definerad i dimesionerna.\\n\")\n",
    "\n",
    "# k)\n",
    "ci = np.dot(c, i)\n",
    "print(f\" k) ci: \\n{ci}\\n\")\n",
    "\n",
    "# l)\n",
    "ab_T = np.dot(a, b.T)\n",
    "print(f\" l) ab^T: \\n{ab_T}\\n\")\n",
    "\n",
    "# Uppgift 10.2.2\n",
    "matrisen_a = np.array([[2, 3, 4], [5, 4, 1]])\n",
    "transponering_a = matrisen_a.T\n",
    "transponering_aa = np.dot(matrisen_a, transponering_a)\n",
    "print(transponering_aa)\n",
    "\n",
    "#Uppgift 10.2.3\n",
    "a_uppgift_10_2_3 = np.array([[1, 2], [2, 4]])\n",
    "b_uppgift_10_2_3 = np.array([[2, 1], [1, 3]])\n",
    "c_uppgift_10_2_3 = np.array([[4, 3], [0, 2]])\n",
    "a_b = np.dot(a_uppgift_10_2_3, b_uppgift_10_2_3) \n",
    "a_c = np.dot(a_uppgift_10_2_3, c_uppgift_10_2_3)\n",
    "lika_a_b = np.array_equal(a_b, a_c)\n",
    "b_ej_lika_c = not np.array_equal(b_uppgift_10_2_3, c_uppgift_10_2_3)\n",
    "print(\" AB = AC:\", lika_a_b)\n",
    "print(\"B är inte lika som C\", b_ej_lika_c)"
   ]
  },
  {
   "cell_type": "markdown",
   "id": "6a4a524f",
   "metadata": {},
   "source": [
    "### Copies and Views\n",
    "Read the following link: https://numpy.org/doc/stable/user/basics.copies.html"
   ]
  },
  {
   "cell_type": "markdown",
   "id": "6cbbeaf7",
   "metadata": {},
   "source": [
    "**Basic indexing creates a view, How can you check if v1 and v2 is a view or copy? If you change the last element in v2 to 123, will the last element in v1 be changed? Why?**"
   ]
  },
  {
   "cell_type": "code",
   "execution_count": null,
   "id": "5b9ef4df",
   "metadata": {},
   "outputs": [],
   "source": [
    "v1 = np.arange(4)\n",
    "v2 = v1[-2:]\n",
    "print(v1)\n",
    "print(v2)"
   ]
  },
  {
   "cell_type": "code",
   "execution_count": null,
   "id": "d2440489",
   "metadata": {},
   "outputs": [],
   "source": [
    "# The base attribute of a view returns the original array while it returns None for a copy.\n",
    "print(v1.base)\n",
    "print(v2.base)"
   ]
  },
  {
   "cell_type": "code",
   "execution_count": null,
   "id": "c8752807",
   "metadata": {},
   "outputs": [],
   "source": [
    "# The last element in v1 will be changed aswell since v2 is a view, meaning they share the same data buffer.\n",
    "v2[-1] = 123\n",
    "print(v1)\n",
    "print(v2)"
   ]
  },
  {
   "cell_type": "code",
   "execution_count": 30,
   "id": "3dd68221",
   "metadata": {},
   "outputs": [
    {
     "name": "stdout",
     "output_type": "stream",
     "text": [
      "[0 1 2 3]\n",
      "[2 3]\n",
      "None\n",
      "[0 1 2 3]\n",
      "[  0   1   2 123]\n",
      "[  2 123]\n"
     ]
    }
   ],
   "source": [
    "v1 = np.arange(4)\n",
    "v2 = v1[2:]\n",
    "print(v1)\n",
    "print(v2)\n",
    "print(v1.base)\n",
    "print(v2.base)\n",
    "v2[-1] = 123\n",
    "print(v1)\n",
    "print(v2)"
   ]
  }
 ],
 "metadata": {
  "kernelspec": {
   "display_name": "base",
   "language": "python",
   "name": "python3"
  },
  "language_info": {
   "codemirror_mode": {
    "name": "ipython",
    "version": 3
   },
   "file_extension": ".py",
   "mimetype": "text/x-python",
   "name": "python",
   "nbconvert_exporter": "python",
   "pygments_lexer": "ipython3",
   "version": "3.12.4"
  }
 },
 "nbformat": 4,
 "nbformat_minor": 5
}
